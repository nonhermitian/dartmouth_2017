{
 "cells": [
  {
   "cell_type": "markdown",
   "metadata": {},
   "source": [
    "# QuTiP Example: Birth and Death of Photons in a Cavity"
   ]
  },
  {
   "cell_type": "code",
   "execution_count": 1,
   "metadata": {
    "collapsed": true
   },
   "outputs": [],
   "source": [
    "import numpy as np\n",
    "import qutip as qt\n",
    "import matplotlib.pyplot as plt\n",
    "%matplotlib inline"
   ]
  },
  {
   "cell_type": "markdown",
   "metadata": {},
   "source": [
    "## Overview"
   ]
  },
  {
   "cell_type": "markdown",
   "metadata": {},
   "source": [
    "Here we aim to reproduce the experimental results from:\n",
    "\n",
    "<blockquote>\n",
    "  Gleyzes et al., \"Quantum jumps of light recording the birth and death of a photon in a cavity\", [Nature **446**, 297 (2007)](http://dx.doi.org/10.1038/nature05589).\n",
    "</blockquote>\n",
    "\n",
    "In particular, we will simulate the creation and annihilation of photons inside the optical cavity due to the thermal environment when the initial cavity is a single-photon Fock state $ |1\\rangle$, as presented in Fig. 3 from the article."
   ]
  },
  {
   "cell_type": "markdown",
   "metadata": {},
   "source": [
    "<img src=\"birth_death.jpg\",width=400>"
   ]
  },
  {
   "cell_type": "markdown",
   "metadata": {},
   "source": [
    "## System Setup"
   ]
  },
  {
   "cell_type": "code",
   "execution_count": 2,
   "metadata": {
    "collapsed": true
   },
   "outputs": [],
   "source": [
    "N = 5\n",
    "a = qt.destroy(N) \n",
    "H = a.dag()*a     # Simple oscillator Hamiltonian\n",
    "psi0 = qt.basis(N,1) # Initial Fock state with one photon\n",
    "kappa = 1.0/0.129 # Coupling rate to heat bath\n",
    "nth = 0.063      # Temperature with <n>=0.063\n",
    "\n",
    "# Build collapse operators for the thermal bath\n",
    "c_ops = []\n",
    "c_ops.append(np.sqrt(kappa * (1 + nth)) * a)\n",
    "c_ops.append(np.sqrt(kappa * nth) * a.dag())"
   ]
  },
  {
   "cell_type": "markdown",
   "metadata": {},
   "source": [
    "## Run Simulation"
   ]
  },
  {
   "cell_type": "code",
   "execution_count": 3,
   "metadata": {},
   "outputs": [
    {
     "name": "stdout",
     "output_type": "stream",
     "text": [
      "10.1%. Run time:   0.47s. Est. time left: 00:00:00:04\n",
      "20.0%. Run time:   0.85s. Est. time left: 00:00:00:03\n",
      "30.1%. Run time:   1.24s. Est. time left: 00:00:00:02\n",
      "40.0%. Run time:   1.62s. Est. time left: 00:00:00:02\n",
      "50.0%. Run time:   1.99s. Est. time left: 00:00:00:01\n",
      "60.1%. Run time:   2.39s. Est. time left: 00:00:00:01\n",
      "70.0%. Run time:   2.76s. Est. time left: 00:00:00:01\n",
      "80.1%. Run time:   3.14s. Est. time left: 00:00:00:00\n",
      "90.0%. Run time:   3.51s. Est. time left: 00:00:00:00\n",
      "100.0%. Run time:   3.89s. Est. time left: 00:00:00:00\n",
      "Total run time:   3.91s\n"
     ]
    }
   ],
   "source": [
    "ntraj = [1,5,15,904] # number of MC trajectories\n",
    "tlist = np.linspace(0,0.8,100)\n",
    "mc = qt.mcsolve(H,psi0,tlist,c_ops,[a.dag()*a],ntraj)\n",
    "me = qt.mesolve(H,psi0,tlist,c_ops, [a.dag()*a])"
   ]
  },
  {
   "cell_type": "markdown",
   "metadata": {},
   "source": [
    "## Plot Results"
   ]
  },
  {
   "cell_type": "code",
   "execution_count": 4,
   "metadata": {},
   "outputs": [
    {
     "data": {
      "image/png": "[encoded data removed]",
      "text/plain": [
       "<matplotlib.figure.Figure at 0x11718e5f8>"
      ]
     },
     "metadata": {},
     "output_type": "display_data"
    }
   ],
   "source": [
    "fig = plt.figure(figsize=(8, 8), frameon=False)\n",
    "plt.subplots_adjust(hspace=0.0)\n",
    "\n",
    "# Results for a single trajectory\n",
    "ax1 = plt.subplot(4,1,1)\n",
    "ax1.xaxis.tick_top()\n",
    "ax1.plot(tlist,mc.expect[0][0],'b',lw=2)\n",
    "ax1.set_xticks([0,0.2,0.4,0.6])\n",
    "ax1.set_yticks([0,0.5,1])\n",
    "ax1.set_ylim([-0.1,1.1])\n",
    "ax1.set_ylabel(r'$\\langle P_{1}(t)\\rangle$')\n",
    "\n",
    "# Results for five trajectories\n",
    "ax2 = plt.subplot(4,1,2)\n",
    "ax2.plot(tlist,mc.expect[1][0],'b',lw=2)\n",
    "ax2.set_yticks([0,0.5,1])\n",
    "ax2.set_ylim([-0.1,1.1])\n",
    "ax2.set_ylabel(r'$\\langle P_{1}(t)\\rangle$')\n",
    "\n",
    "# Results for fifteen trajectories\n",
    "ax3 = plt.subplot(4,1,3)\n",
    "ax3.plot(tlist,mc.expect[2][0],'b',lw=2)\n",
    "ax3.plot(tlist,me.expect[0],'r--',lw=2)\n",
    "ax3.set_yticks([0,0.5,1])\n",
    "ax3.set_ylim([-0.1,1.1])\n",
    "ax3.set_ylabel(r'$\\langle P_{1}(t)\\rangle$')\n",
    "\n",
    "# Results for 904 trajectories\n",
    "ax4 = plt.subplot(4,1,4)\n",
    "ax4.plot(tlist,mc.expect[3][0],'b',lw=2)\n",
    "ax4.plot(tlist,me.expect[0],'r--',lw=2)\n",
    "plt.xticks([0,0.2,0.4,0.6])\n",
    "plt.yticks([0,0.5,1])\n",
    "ax4.set_xlim([0,0.8])\n",
    "ax4.set_ylim([-0.1,1.1])\n",
    "ax4.set_xlabel(r'Time (s)')\n",
    "ax4.set_ylabel(r'$\\langle P_{1}(t)\\rangle$')\n",
    "\n",
    "xticklabels = ax2.get_xticklabels()+ax3.get_xticklabels()\n",
    "plt.setp(xticklabels, visible=False);"
   ]
  },
  {
   "cell_type": "markdown",
   "metadata": {},
   "source": [
    "## Versions"
   ]
  },
  {
   "cell_type": "code",
   "execution_count": null,
   "metadata": {
    "collapsed": true
   },
   "outputs": [],
   "source": [
    "from qutip.ipynbtools import version_table\n",
    "\n",
    "version_table()"
   ]
  }
 ],
 "metadata": {
  "kernelspec": {
   "display_name": "Python 3",
   "language": "python",
   "name": "python3"
  },
  "language_info": {
   "codemirror_mode": {
    "name": "ipython",
    "version": 3
   },
   "file_extension": ".py",
   "mimetype": "text/x-python",
   "name": "python",
   "nbconvert_exporter": "python",
   "pygments_lexer": "ipython3",
   "version": "3.6.1"
  }
 },
 "nbformat": 4,
 "nbformat_minor": 1
}
