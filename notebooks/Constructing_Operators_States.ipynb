{
 "cells": [
  {
   "cell_type": "markdown",
   "metadata": {},
   "source": [
    "# Constructing Operators and States"
   ]
  },
  {
   "cell_type": "markdown",
   "metadata": {},
   "source": [
    "<h2 style='color:green'>Part #1</h2>"
   ]
  },
  {
   "cell_type": "markdown",
   "metadata": {},
   "source": [
    "## Load necessary modules"
   ]
  },
  {
   "cell_type": "markdown",
   "metadata": {},
   "source": [
    "Import statements like these need to be at the top of every notebook you create."
   ]
  },
  {
   "cell_type": "code",
   "execution_count": null,
   "metadata": {
    "collapsed": true
   },
   "outputs": [],
   "source": [
    "import numpy as np                # Needed to create arrays (vectors and matrices).\n",
    "import qutip as qt                # the QuTiP library.\n",
    "import matplotlib.pyplot as plt   # Plotting tools.\n",
    "%matplotlib inline                "
   ]
  },
  {
   "cell_type": "markdown",
   "metadata": {},
   "source": [
    "## Constructing Operators and States for Two-Level Systems"
   ]
  },
  {
   "cell_type": "markdown",
   "metadata": {},
   "source": [
    "Start by generating the Pauli spin operators and identity operator for a two-level system. From your favorite QM textbook:\n",
    "\n",
    "$$\n",
    "\\begin{equation}\n",
    "\\sigma_{x} = \\begin{bmatrix}\n",
    "0 & 1 \\\\\n",
    "1 & 0 \n",
    "\\end{bmatrix},\n",
    "\\ \\\n",
    "\\sigma_{y} = \\begin{bmatrix}\n",
    "0 & -i \\\\\n",
    "i & 0 \n",
    "\\end{bmatrix},\n",
    "\\ \\\n",
    "\\sigma_{z} = \\begin{bmatrix}\n",
    "1 & 0 \\\\\n",
    "0 & -1 \n",
    "\\end{bmatrix},\n",
    "\\ \\ \n",
    "I = \\begin{bmatrix}\n",
    "1 & 0 \\\\\n",
    "0 & 1 \n",
    "\\end{bmatrix}\n",
    "\\end{equation}\n",
    "$$"
   ]
  },
  {
   "cell_type": "code",
   "execution_count": null,
   "metadata": {},
   "outputs": [],
   "source": [
    "qt.sigmax()"
   ]
  },
  {
   "cell_type": "code",
   "execution_count": null,
   "metadata": {},
   "outputs": [],
   "source": [
    "qt.sigmay()"
   ]
  },
  {
   "cell_type": "code",
   "execution_count": null,
   "metadata": {},
   "outputs": [],
   "source": [
    "qt.sigmaz()"
   ]
  },
  {
   "cell_type": "code",
   "execution_count": null,
   "metadata": {},
   "outputs": [],
   "source": [
    "qt.identity(2) # Identity works for any dimension, not just 2."
   ]
  },
  {
   "cell_type": "markdown",
   "metadata": {},
   "source": [
    "### What implicit assumption did we make when writing down these operators?"
   ]
  },
  {
   "cell_type": "markdown",
   "metadata": {},
   "source": [
    "We have implicity choosen the z-axis as our preferred basis (representation).  What do the corresponding state vectors look like?"
   ]
  },
  {
   "cell_type": "code",
   "execution_count": null,
   "metadata": {},
   "outputs": [],
   "source": [
    "up = qt.basis(2,0) # First number is Hilbert dimension, second labels the state\n",
    "up"
   ]
  },
  {
   "cell_type": "markdown",
   "metadata": {},
   "source": [
    "If I don't know what the inputs are, then it is always possible to ask for help."
   ]
  },
  {
   "cell_type": "code",
   "execution_count": null,
   "metadata": {
    "collapsed": true
   },
   "outputs": [],
   "source": [
    "qt.basis?"
   ]
  },
  {
   "cell_type": "code",
   "execution_count": null,
   "metadata": {},
   "outputs": [],
   "source": [
    "down = qt.basis(2,1)\n",
    "down"
   ]
  },
  {
   "cell_type": "markdown",
   "metadata": {},
   "source": [
    "Check the action of $\\sigma_{z}$ on the states:"
   ]
  },
  {
   "cell_type": "code",
   "execution_count": null,
   "metadata": {},
   "outputs": [],
   "source": [
    "qt.sigmaz() * up"
   ]
  },
  {
   "cell_type": "code",
   "execution_count": null,
   "metadata": {},
   "outputs": [],
   "source": [
    "qt.sigmaz() * down"
   ]
  },
  {
   "cell_type": "markdown",
   "metadata": {},
   "source": [
    "Of course, given a basis for our Hilbert space, we can form any other state via a linear combination of basis vectors:\n",
    "$$\n",
    "\\begin{equation}\n",
    "|\\Psi\\rangle = a|\\uparrow\\rangle+b|\\downarrow\\rangle\n",
    "\\end{equation}\n",
    "$$"
   ]
  },
  {
   "cell_type": "code",
   "execution_count": null,
   "metadata": {},
   "outputs": [],
   "source": [
    "psi = 5*up - 1j*down # Complex numbers in Python written as e.g. 1+3j.\n",
    "psi"
   ]
  },
  {
   "cell_type": "markdown",
   "metadata": {},
   "source": [
    "State is not properly normalized.  Can be easily fixed."
   ]
  },
  {
   "cell_type": "code",
   "execution_count": null,
   "metadata": {},
   "outputs": [],
   "source": [
    "psi.unit()"
   ]
  },
  {
   "cell_type": "markdown",
   "metadata": {},
   "source": [
    "What's going on here?  See lecture slides for description of the Quantum Object class."
   ]
  },
  {
   "cell_type": "markdown",
   "metadata": {},
   "source": [
    "<h2 style='color:green'>Part #2</h2>"
   ]
  },
  {
   "cell_type": "markdown",
   "metadata": {},
   "source": [
    "## Constructing Operators and States for Oscillators"
   ]
  },
  {
   "cell_type": "markdown",
   "metadata": {
    "collapsed": true
   },
   "source": [
    "Unlike two-level systems, oscillators live in a formally infinite Hilbert space.  Therefore we must be careful as to where we truncate the state space for simulation.\n",
    "\n",
    "\n",
    "#### The truncation of state space can lead to misunderstandings and error, if not accounted for.\n",
    "\n",
    "A good choice of basis, and the one used by QuTiP is the usual number state $|n\\rangle$ (Fock) basis."
   ]
  },
  {
   "cell_type": "code",
   "execution_count": null,
   "metadata": {},
   "outputs": [],
   "source": [
    "N = 5 # Must always specify how large you want the Hilbert space to be.\n",
    "psi = qt.basis(N,0)\n",
    "psi"
   ]
  },
  {
   "cell_type": "markdown",
   "metadata": {},
   "source": [
    "This is the ground state $|0\\rangle$ of the number state basis. To get the $|1\\rangle$ state simply do:"
   ]
  },
  {
   "cell_type": "code",
   "execution_count": null,
   "metadata": {},
   "outputs": [],
   "source": [
    "qt.basis(N,1)"
   ]
  },
  {
   "cell_type": "markdown",
   "metadata": {},
   "source": [
    "What this shows is that for a given Hilbert size $N$, the corresponding basis vectors go from $n=0 \\rightarrow N-1$.\n",
    "\n",
    "\n",
    "We know that to move up and down the number state basis we need creation and annihiation operators."
   ]
  },
  {
   "cell_type": "code",
   "execution_count": null,
   "metadata": {},
   "outputs": [],
   "source": [
    "a = qt.destroy(N)\n",
    "a"
   ]
  },
  {
   "cell_type": "markdown",
   "metadata": {},
   "source": [
    "To build the creation operator we could do `create(N)`, but lets us a `Qobj` method instead:"
   ]
  },
  {
   "cell_type": "code",
   "execution_count": null,
   "metadata": {},
   "outputs": [],
   "source": [
    "a.dag() # The 'dag' method creates the dagger (adjoint) of an operator."
   ]
  },
  {
   "cell_type": "code",
   "execution_count": null,
   "metadata": {},
   "outputs": [],
   "source": [
    "a.dag()*psi"
   ]
  },
  {
   "cell_type": "code",
   "execution_count": null,
   "metadata": {},
   "outputs": [],
   "source": [
    "a.dag()**2 * psi"
   ]
  },
  {
   "cell_type": "markdown",
   "metadata": {},
   "source": [
    "We can also build operators such as the number operator:"
   ]
  },
  {
   "cell_type": "code",
   "execution_count": null,
   "metadata": {},
   "outputs": [],
   "source": [
    "a.dag()*a"
   ]
  },
  {
   "cell_type": "markdown",
   "metadata": {},
   "source": [
    "or we could have just used the builtin number operator function:"
   ]
  },
  {
   "cell_type": "code",
   "execution_count": null,
   "metadata": {},
   "outputs": [],
   "source": [
    "qt.num(N)"
   ]
  },
  {
   "cell_type": "markdown",
   "metadata": {},
   "source": [
    "## Building Density Matrices"
   ]
  },
  {
   "cell_type": "markdown",
   "metadata": {},
   "source": [
    "QuTiP focuses on open quantum systesm, i.e. systems that interact with an environment.  This demands the use of density matrices, rather than state vectors, as the interaction with the environment, in general, produces a mixed state."
   ]
  },
  {
   "cell_type": "markdown",
   "metadata": {},
   "source": [
    "Typically, we prepare our system in a given pure state.  The corresponding density matrix would then just be formed by the outer product $|\\Psi\\rangle\\langle \\Psi|$."
   ]
  },
  {
   "cell_type": "code",
   "execution_count": null,
   "metadata": {},
   "outputs": [],
   "source": [
    "psi = qt.basis(N,2)\n",
    "psi"
   ]
  },
  {
   "cell_type": "code",
   "execution_count": null,
   "metadata": {},
   "outputs": [],
   "source": [
    "psi*psi.dag()"
   ]
  },
  {
   "cell_type": "markdown",
   "metadata": {},
   "source": [
    "We could also use the built in function `ket2dm()` to do the product for us:"
   ]
  },
  {
   "cell_type": "code",
   "execution_count": null,
   "metadata": {},
   "outputs": [],
   "source": [
    "qt.ket2dm(psi)"
   ]
  },
  {
   "cell_type": "markdown",
   "metadata": {},
   "source": [
    "QuTiP has a collection of built in density operators that are commonly used:"
   ]
  },
  {
   "cell_type": "code",
   "execution_count": null,
   "metadata": {},
   "outputs": [],
   "source": [
    "qt.fock_dm(N,2)"
   ]
  },
  {
   "cell_type": "code",
   "execution_count": null,
   "metadata": {},
   "outputs": [],
   "source": [
    "qt.coherent_dm(N,alpha=1) #alpha specifies the coherent state amplitude"
   ]
  },
  {
   "cell_type": "markdown",
   "metadata": {},
   "source": [
    "The coherent states represent one example of a situation where the state vector or density matrix is a non-sparse in the Fock basis.  This is because they are generated using a displacement operator using `expm`."
   ]
  },
  {
   "cell_type": "code",
   "execution_count": null,
   "metadata": {},
   "outputs": [],
   "source": [
    "qt.thermal_dm(N,1) #`1` indicates the average number of particles in the thermal state"
   ]
  },
  {
   "cell_type": "markdown",
   "metadata": {},
   "source": [
    "These are just simple examples of density matrices.  The more interesting ones comes from doing open-system time-evolution."
   ]
  }
 ],
 "metadata": {
  "kernelspec": {
   "display_name": "Python 3",
   "language": "python",
   "name": "python3"
  },
  "language_info": {
   "codemirror_mode": {
    "name": "ipython",
    "version": 3
   },
   "file_extension": ".py",
   "mimetype": "text/x-python",
   "name": "python",
   "nbconvert_exporter": "python",
   "pygments_lexer": "ipython3",
   "version": "3.6.1"
  }
 },
 "nbformat": 4,
 "nbformat_minor": 2
}
