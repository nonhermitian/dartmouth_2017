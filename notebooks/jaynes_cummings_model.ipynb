{
 "cells": [
  {
   "cell_type": "code",
   "execution_count": null,
   "metadata": {
    "collapsed": true
   },
   "outputs": [],
   "source": [
    "import numpy as np\n",
    "import qutip as qt\n",
    "import matplotlib.pyplot as plt\n",
    "%matplotlib inline"
   ]
  },
  {
   "cell_type": "markdown",
   "metadata": {},
   "source": [
    "# The Jaynes-Cummings Model"
   ]
  },
  {
   "cell_type": "markdown",
   "metadata": {},
   "source": [
    "<img src=\"jc_model.png\",width=400>\n",
    "<br>\n",
    "$$\n",
    "\\begin{equation}\n",
    "H = \\hbar\\omega_{c}a^{\\dagger}a + \\hbar\\omega_{a}\\sigma_{-}^{\\dagger}\\sigma_{-}+\\hbar g(a^{\\dagger}\\sigma_{-}+a\\sigma_{-}^{\\dagger})\n",
    "\\end{equation}\n",
    "$$"
   ]
  },
  {
   "cell_type": "markdown",
   "metadata": {},
   "source": [
    "This is shorthand notation. If the cavity is system $A$ and atom system $B$ then formally:\n",
    "\n",
    "$$\n",
    "\\begin{align}\n",
    "a &= a \\otimes \\mathbb{I}_{2} \\\\\n",
    "\\sigma_{-} &= \\mathbb{I}_{N} \\otimes \\sigma_{-}\n",
    "\\end{align}\n",
    "$$\n",
    "\n"
   ]
  },
  {
   "cell_type": "markdown",
   "metadata": {},
   "source": [
    "<h2 style='color:green'>Part #1</h2>"
   ]
  },
  {
   "cell_type": "code",
   "execution_count": null,
   "metadata": {
    "collapsed": true
   },
   "outputs": [],
   "source": [
    "N = 15                 # number of cavity fock states\n",
    "wc = 1.0  * 2 * np.pi  # cavity frequency\n",
    "wa = 1.0  * 2 * np.pi  # atom frequency\n",
    "g  = 0.05 * 2 * np.pi  # coupling strength\n",
    "\n",
    "# operators\n",
    "a  = qt.tensor(qt.destroy(N), qt.qeye(2)) # qeye is short for identity\n",
    "sm = qt.tensor(qt.qeye(N), qt.sigmam())\n",
    "\n",
    "# Hamiltonian\n",
    "H = wc * a.dag() * a + wa * sm.dag() * sm + g * (a.dag() * sm + a * sm.dag())"
   ]
  },
  {
   "cell_type": "markdown",
   "metadata": {},
   "source": [
    " ## **Note that there is no $\\hbar$ anywhere**  The Hamiltonians that are used in QuTiP have units of (typically angular) frequency.  We also do not need to specify the exact units for the frequency (e.g. GHz, MHz, etc.)"
   ]
  },
  {
   "cell_type": "markdown",
   "metadata": {},
   "source": [
    "<center><h2 style='color:red'>All numerical equations should be unitless.</h2><center>"
   ]
  },
  {
   "cell_type": "markdown",
   "metadata": {},
   "source": [
    "## When doing time-evolution, the actual units of frequency set the timescale, for example if $\\omega = 2\\pi\\ \\mathrm{GHz}$ then the units of time are $\\mathrm{ns}$."
   ]
  },
  {
   "cell_type": "markdown",
   "metadata": {},
   "source": [
    "What does the full Hamiltonian look like?"
   ]
  },
  {
   "cell_type": "code",
   "execution_count": null,
   "metadata": {
    "collapsed": true
   },
   "outputs": [],
   "source": [
    "plt.figure(figsize=(8,6))\n",
    "plt.spy(H.data);"
   ]
  },
  {
   "cell_type": "markdown",
   "metadata": {},
   "source": [
    "What is the density of non-zero elements?"
   ]
  },
  {
   "cell_type": "code",
   "execution_count": null,
   "metadata": {
    "collapsed": true
   },
   "outputs": [],
   "source": [
    "H.data.nnz / H.shape[0]**2"
   ]
  },
  {
   "cell_type": "markdown",
   "metadata": {
    "collapsed": true
   },
   "source": [
    "<h2 style='color:green'>Part #2</h2>"
   ]
  },
  {
   "cell_type": "code",
   "execution_count": null,
   "metadata": {
    "collapsed": true
   },
   "outputs": [],
   "source": [
    "# intial state\n",
    "psi0 = qt.tensor(qt.basis(N,0), qt.basis(2,0))    # start with an excited atom, cavity ground\n",
    "\n",
    "# Times over which to evaluate system\n",
    "tlist = np.linspace(0,25,101)\n",
    "\n",
    "# Make list of expectation value operators\n",
    "e_ops = [a.dag() * a, sm.dag() * sm]\n",
    "\n",
    "#Perform evolution\n",
    "output = qt.sesolve(H, psi0, tlist, e_ops)"
   ]
  },
  {
   "cell_type": "markdown",
   "metadata": {},
   "source": [
    "Lets see what `output` is:"
   ]
  },
  {
   "cell_type": "code",
   "execution_count": null,
   "metadata": {
    "collapsed": true
   },
   "outputs": [],
   "source": [
    "output"
   ]
  },
  {
   "cell_type": "markdown",
   "metadata": {},
   "source": [
    "The expectation value results are stored in the `expect` attribute of the result class, i.e. `output.expect`.  To see this, lets plot the results."
   ]
  },
  {
   "cell_type": "code",
   "execution_count": null,
   "metadata": {
    "collapsed": true
   },
   "outputs": [],
   "source": [
    "plt.figure(figsize=(8,6))\n",
    "plt.plot(tlist,output.expect[0], lw=3)\n",
    "plt.plot(tlist,output.expect[1], lw=3)\n",
    "plt.legend(['$\\langle a^{\\dagger}a\\\\rangle$',\n",
    "            '$\\langle \\sigma_{-}^{\\dagger}\\sigma_{-}\\\\rangle$'],\n",
    "           loc=1,fontsize=16)\n",
    "plt.xlabel('Time', fontsize=16)\n",
    "plt.ylabel('Occupation Number', fontsize=16);"
   ]
  },
  {
   "cell_type": "markdown",
   "metadata": {},
   "source": [
    "If instead we want to return the state of the system at time $t$, then we call the same function without the `e_ops`, or setting `e_ops = []`."
   ]
  },
  {
   "cell_type": "code",
   "execution_count": null,
   "metadata": {
    "collapsed": true
   },
   "outputs": [],
   "source": [
    "#Perform evolution returning state vectors\n",
    "output = qt.sesolve(H, psi0, tlist, e_ops=[])"
   ]
  },
  {
   "cell_type": "code",
   "execution_count": null,
   "metadata": {
    "collapsed": true
   },
   "outputs": [],
   "source": [
    "output"
   ]
  },
  {
   "cell_type": "markdown",
   "metadata": {},
   "source": [
    "<h2 style='color:green'>Part #3</h2>"
   ]
  },
  {
   "cell_type": "markdown",
   "metadata": {},
   "source": [
    "## Partial trace and entropy"
   ]
  },
  {
   "cell_type": "markdown",
   "metadata": {},
   "source": [
    "States are stored in the `output.states` attribute. To take the partial trace of a state or operator we use the `Q.ptrace(sel)` method of the Qobj class.  Here `sel` is the index of the desired subsystem(s) that you want to look at."
   ]
  },
  {
   "cell_type": "code",
   "execution_count": null,
   "metadata": {
    "collapsed": true
   },
   "outputs": [],
   "source": [
    "entropy = np.zeros_like(tlist) # Making an array of zeros\n",
    "for kk, state in enumerate(output.states):\n",
    "    rho_cavity = state.ptrace(0)\n",
    "    entropy[kk] = qt.entropy_vn(rho_cavity)"
   ]
  },
  {
   "cell_type": "code",
   "execution_count": null,
   "metadata": {
    "collapsed": true
   },
   "outputs": [],
   "source": [
    "plt.figure(figsize=(8,6))\n",
    "plt.plot(tlist,entropy,lw=3)\n",
    "plt.xlabel('Time', fontsize=16)\n",
    "plt.ylabel('Entropy', fontsize=16);"
   ]
  },
  {
   "cell_type": "code",
   "execution_count": null,
   "metadata": {
    "collapsed": true
   },
   "outputs": [],
   "source": [
    "rho_atom = output.states[np.where(tlist==2.5)[0][0]].ptrace(1)"
   ]
  },
  {
   "cell_type": "code",
   "execution_count": null,
   "metadata": {
    "collapsed": true
   },
   "outputs": [],
   "source": [
    "rho_atom"
   ]
  },
  {
   "cell_type": "markdown",
   "metadata": {},
   "source": [
    "Verify that the entropy of $\\rho_{c}$ is the same as $\\rho_{a}$."
   ]
  },
  {
   "cell_type": "code",
   "execution_count": null,
   "metadata": {
    "collapsed": true
   },
   "outputs": [],
   "source": [
    "np.all([(qt.entropy_vn(state.ptrace(0)) == qt.entropy_vn(state.ptrace(1))) \n",
    "        for state in output.states])"
   ]
  },
  {
   "cell_type": "markdown",
   "metadata": {},
   "source": [
    "At times $t=2.5, 7.5, \\dots$, atom is in maximally mixed state, and thus entangled with the cavity. This should not be too surprising as the single-exciation in the system is begin eqully shared by the cavity and atom at those times."
   ]
  },
  {
   "cell_type": "markdown",
   "metadata": {},
   "source": [
    "## State of the cavity"
   ]
  },
  {
   "cell_type": "code",
   "execution_count": null,
   "metadata": {
    "collapsed": true
   },
   "outputs": [],
   "source": [
    "t_idx = np.where([tlist == t for t in [0.0, 5, 15, 25]])[1]\n",
    "t_idx"
   ]
  },
  {
   "cell_type": "code",
   "execution_count": null,
   "metadata": {
    "collapsed": true
   },
   "outputs": [],
   "source": [
    "cavity_rho_list = [output.states[kk].ptrace(0) for kk in t_idx]"
   ]
  },
  {
   "cell_type": "code",
   "execution_count": null,
   "metadata": {
    "collapsed": true,
    "scrolled": true
   },
   "outputs": [],
   "source": [
    "# loop over the list of density matrices\n",
    "\n",
    "xvec = np.linspace(-3,3,200)\n",
    "\n",
    "fig, axes = plt.subplots(1,len(cavity_rho_list), sharex=True, \n",
    "                         figsize=(4*len(cavity_rho_list),3))\n",
    "\n",
    "for idx, rho in enumerate(cavity_rho_list):\n",
    "    # calculate its wigner function\n",
    "    W = qt.wigner(rho, xvec, xvec)\n",
    "    # plot its wigner function\n",
    "    cf = axes[idx].contourf(xvec, xvec, W, 100, vmin=-0.4, vmax=0.4, cmap='RdBu')\n",
    "    axes[idx].set_title(r\"$t = %.1f$\" % tlist[t_idx][idx], fontsize=16)\n",
    "cbar = fig.colorbar(cf, ax=axes.ravel().tolist())"
   ]
  },
  {
   "cell_type": "code",
   "execution_count": null,
   "metadata": {
    "collapsed": true
   },
   "outputs": [],
   "source": [
    "W.sum()*np.diff(xvec)[0]**2"
   ]
  },
  {
   "cell_type": "markdown",
   "metadata": {},
   "source": [
    "The Wigner distribution of the cavity at times $t=5, 15, 25,\\dots$ looks very similar to the $|n\\rangle = |1\\rangle$ Fock state that we saw earlier."
   ]
  },
  {
   "cell_type": "code",
   "execution_count": null,
   "metadata": {
    "collapsed": true
   },
   "outputs": [],
   "source": [
    "W_fock1 = qt.wigner(qt.basis(N,1), xvec, xvec)\n",
    "plt.figure(figsize=(7,6))\n",
    "plt.contourf(xvec, xvec, W_fock1, 100, vmin=-0.4, vmax=0.4, cmap='RdBu')\n",
    "plt.colorbar();"
   ]
  },
  {
   "cell_type": "markdown",
   "metadata": {},
   "source": [
    "If we want to make this observation quantitative we can use one of several metrics (distance measures) to see how close our observed state is to a given target state:\n",
    "\n",
    "#### Fidelity\n",
    "$$\n",
    "\\begin{equation}\n",
    "F(\\rho, \\sigma) = \\mathrm{Tr}\\left[\\sqrt{\\sqrt{\\rho}\\sigma\\sqrt{\\rho}}\\right]\n",
    "\\end{equation}\n",
    "$$\n",
    "\n",
    "#### Trace Distance\n",
    "\n",
    "$$\n",
    "\\begin{equation}\n",
    "T(\\rho, \\sigma) = \\frac{1}{2}\\mathrm{Tr}\\left[\\sqrt{(\\rho-\\sigma)^{2}}\\right] = \\frac{1}{2}\\sum_{i} |\\lambda_{i}|\n",
    "\\end{equation}\n",
    "$$"
   ]
  },
  {
   "cell_type": "code",
   "execution_count": null,
   "metadata": {
    "collapsed": true
   },
   "outputs": [],
   "source": [
    "qt.fidelity(qt.basis(N,1),cavity_rho_list[-1])"
   ]
  },
  {
   "cell_type": "code",
   "execution_count": null,
   "metadata": {
    "collapsed": true
   },
   "outputs": [],
   "source": [
    "qt.tracedist(qt.basis(N,1),cavity_rho_list[-1])"
   ]
  }
 ],
 "metadata": {
  "kernelspec": {
   "display_name": "Python 3",
   "language": "python",
   "name": "python3"
  },
  "language_info": {
   "codemirror_mode": {
    "name": "ipython",
    "version": 3
   },
   "file_extension": ".py",
   "mimetype": "text/x-python",
   "name": "python",
   "nbconvert_exporter": "python",
   "pygments_lexer": "ipython3",
   "version": "3.6.1"
  }
 },
 "nbformat": 4,
 "nbformat_minor": 2
}
